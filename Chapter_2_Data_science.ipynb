{
  "nbformat": 4,
  "nbformat_minor": 0,
  "metadata": {
    "colab": {
      "provenance": [],
      "toc_visible": true,
      "authorship_tag": "ABX9TyN9F6zpQ42Z3T4qy6JIfpRX",
      "include_colab_link": true
    },
    "kernelspec": {
      "name": "python3",
      "display_name": "Python 3"
    },
    "language_info": {
      "name": "python"
    }
  },
  "cells": [
    {
      "cell_type": "markdown",
      "metadata": {
        "id": "view-in-github",
        "colab_type": "text"
      },
      "source": [
        "<a href=\"https://colab.research.google.com/github/Sahil-Singh2002/Analtical-and-Computational-2/blob/master/Chapter_2_Data_science.ipynb\" target=\"_parent\"><img src=\"https://colab.research.google.com/assets/colab-badge.svg\" alt=\"Open In Colab\"/></a>"
      ]
    },
    {
      "cell_type": "markdown",
      "source": [
        "##Using Common List Object Methods:\n",
        "\n",
        "We’ll look at some common list object methods,\n",
        "including append(), index(), insert(), and count(). To practice using them, start by\n",
        "creating a blank list."
      ],
      "metadata": {
        "id": "FtjaktjJLxWA"
      }
    },
    {
      "cell_type": "code",
      "execution_count": null,
      "metadata": {
        "id": "EGqbNpUbLs-y"
      },
      "outputs": [],
      "source": [
        "my_list = []"
      ]
    },
    {
      "cell_type": "markdown",
      "source": [
        "List object method append().It adds an item to\n",
        "the end of the list.\n"
      ],
      "metadata": {
        "id": "E22CpJE8LwY4"
      }
    },
    {
      "cell_type": "code",
      "source": [
        "my_list.append('Pay bills')\n",
        "my_list.append('Tidy up')\n",
        "my_list.append('Walk the dog')\n",
        "my_list.append('Cook dinner')"
      ],
      "metadata": {
        "id": "3607ReVkMU3O"
      },
      "execution_count": null,
      "outputs": []
    },
    {
      "cell_type": "markdown",
      "source": [
        "List now contains four items, in the order in which they were\n",
        "appended."
      ],
      "metadata": {
        "id": "SOeeMfqoMfr2"
      }
    },
    {
      "cell_type": "code",
      "source": [
        "print(my_list)"
      ],
      "metadata": {
        "colab": {
          "base_uri": "https://localhost:8080/"
        },
        "id": "_w2dFwzkMip7",
        "outputId": "3a160b9a-021c-4e2d-8c38-6805bd4104d0"
      },
      "execution_count": null,
      "outputs": [
        {
          "output_type": "stream",
          "name": "stdout",
          "text": [
            "['Pay bills', 'Tidy up', 'Walk the dog', 'Cook dinner']\n"
          ]
        }
      ]
    },
    {
      "cell_type": "markdown",
      "source": [
        "Each element oin the list has a numerical key known as an index. Using a zero based indexing.\n",
        "\n",
        "To access an individual item from a list, specify the name of list, followed by the index in square brackets."
      ],
      "metadata": {
        "id": "bIh0zFQlMpBv"
      }
    },
    {
      "cell_type": "code",
      "source": [
        "print(my_list[0])"
      ],
      "metadata": {
        "colab": {
          "base_uri": "https://localhost:8080/"
        },
        "id": "Bk95TJUQNKqq",
        "outputId": "dbb17244-d3e4-4513-b367-eba188a80f81"
      },
      "execution_count": null,
      "outputs": [
        {
          "output_type": "stream",
          "name": "stdout",
          "text": [
            "Pay bills\n"
          ]
        }
      ]
    },
    {
      "cell_type": "markdown",
      "source": [
        "Say you want to add a new\n",
        "chore to your to-do list between walking the dog and cooking dinner. To\n",
        "make this insertion, you first use the index() method to determine the index of\n",
        "the item before which you want to insert the new item."
      ],
      "metadata": {
        "id": "NqTyV3bwNe9e"
      }
    },
    {
      "cell_type": "code",
      "source": [
        "i = my_list.index(my_list[3])\n",
        "my_list.insert(i, \"Go meet friends\")\n",
        "print(my_list)"
      ],
      "metadata": {
        "colab": {
          "base_uri": "https://localhost:8080/"
        },
        "id": "Gt2lBeZyNp5x",
        "outputId": "c7729010-3de8-44b4-d88a-59aaab16ad8f"
      },
      "execution_count": null,
      "outputs": [
        {
          "output_type": "stream",
          "name": "stdout",
          "text": [
            "['Pay bills', 'Tidy up', 'Walk the dog', 'Go meet friends', 'Cook dinner']\n"
          ]
        }
      ]
    },
    {
      "cell_type": "markdown",
      "source": [
        "The new chore is added to the list at the specified index, shifting all\n",
        "subsequent chores down by one."
      ],
      "metadata": {
        "id": "Ojh47RTxOpC3"
      }
    },
    {
      "cell_type": "markdown",
      "source": [
        "Because lists allow for duplicate items, you may need to check how many\n",
        "times a certain item appears in a list. This can be done with the count()\n",
        "method."
      ],
      "metadata": {
        "id": "Jd4zilOdOzeP"
      }
    },
    {
      "cell_type": "code",
      "source": [
        "print(my_list.count('Tidy up'))"
      ],
      "metadata": {
        "colab": {
          "base_uri": "https://localhost:8080/"
        },
        "id": "HBgwCbFFOlIv",
        "outputId": "83e5d22e-4fce-447c-84f0-fc28698f28d4"
      },
      "execution_count": null,
      "outputs": [
        {
          "output_type": "stream",
          "name": "stdout",
          "text": [
            "1\n"
          ]
        }
      ]
    },
    {
      "cell_type": "markdown",
      "source": [
        "But it\n",
        "might be a good idea to include this item in your daily list more than once!"
      ],
      "metadata": {
        "id": "1rq0XXgWO8l7"
      }
    },
    {
      "cell_type": "markdown",
      "source": [
        "## Using Slice Notation\n",
        "\n",
        "To access a range of items from a sequential data type such as a\n",
        "list by using slice notation. To take a slice of a list, specify the index of the\n",
        "starting position and the index of the ending position plus 1.\n"
      ],
      "metadata": {
        "id": "eIJVYvQoPJIg"
      }
    },
    {
      "cell_type": "code",
      "source": [
        "print(my_list[0:3])"
      ],
      "metadata": {
        "colab": {
          "base_uri": "https://localhost:8080/"
        },
        "id": "xyqJjelLQ-O5",
        "outputId": "fc438939-69b0-499a-d1cb-056e018c7a26"
      },
      "execution_count": null,
      "outputs": [
        {
          "output_type": "stream",
          "name": "stdout",
          "text": [
            "['Pay bills', 'Tidy up', 'Walk the dog']\n"
          ]
        }
      ]
    },
    {
      "cell_type": "markdown",
      "source": [
        "The result is a list of the items with indices 0 through 2."
      ],
      "metadata": {
        "id": "wxvPG1sWRKJg"
      }
    },
    {
      "cell_type": "code",
      "source": [
        "#Same as the one above\n",
        "print(my_list[:3])"
      ],
      "metadata": {
        "colab": {
          "base_uri": "https://localhost:8080/"
        },
        "id": "mjnds4ZtRNE4",
        "outputId": "43bdb380-eeb6-401b-be5b-47fa38618ea8"
      },
      "execution_count": null,
      "outputs": [
        {
          "output_type": "stream",
          "name": "stdout",
          "text": [
            "['Pay bills', 'Tidy up', 'Walk the dog']\n"
          ]
        }
      ]
    },
    {
      "cell_type": "markdown",
      "source": [
        "If you omit the end index, the slice will continue through the end of the\n",
        "list."
      ],
      "metadata": {
        "id": "tm2VtcH8RbBa"
      }
    },
    {
      "cell_type": "code",
      "source": [
        "print(my_list[3:])"
      ],
      "metadata": {
        "colab": {
          "base_uri": "https://localhost:8080/"
        },
        "id": "7WbEXpgrRahR",
        "outputId": "573679ab-2720-4867-a70f-4982cec67336"
      },
      "execution_count": null,
      "outputs": [
        {
          "output_type": "stream",
          "name": "stdout",
          "text": [
            "['Go meet friends', 'Cook dinner']\n"
          ]
        }
      ]
    },
    {
      "cell_type": "markdown",
      "source": [
        "You can omit both indices, in which case you’ll get a copy of the\n",
        "whole list."
      ],
      "metadata": {
        "id": "gQVSfqN6Ruac"
      }
    },
    {
      "cell_type": "code",
      "source": [
        "print(my_list[:])"
      ],
      "metadata": {
        "colab": {
          "base_uri": "https://localhost:8080/"
        },
        "id": "1wUOsTvARwoL",
        "outputId": "027b63cd-5ce9-4403-e189-02f7e9806aa7"
      },
      "execution_count": null,
      "outputs": [
        {
          "output_type": "stream",
          "name": "stdout",
          "text": [
            "['Pay bills', 'Tidy up', 'Walk the dog', 'Go meet friends', 'Cook dinner']\n"
          ]
        }
      ]
    },
    {
      "cell_type": "markdown",
      "source": [
        "Slice notation is not limited to extracting a subsequence from a list. You\n",
        "can also use it instead of the append() and insert() methods to populate a list with\n",
        "data. Here, for example, you add two items to the end of your list"
      ],
      "metadata": {
        "id": "jrcE_hrDR5dt"
      }
    },
    {
      "cell_type": "code",
      "source": [
        "my_list[len(my_list):] = [\"Mow the Lawn\",\"Water plants\"]\n",
        "# len() function returns the number of items in the list."
      ],
      "metadata": {
        "id": "RH2OGyyWTi4r"
      },
      "execution_count": null,
      "outputs": []
    },
    {
      "cell_type": "markdown",
      "source": [
        "len() function returns the number of items in the list. Also the\n",
        "index of the first unused position outside the list. Add new\n",
        "items starting from this index."
      ],
      "metadata": {
        "id": "rgaaqR1UUAay"
      }
    },
    {
      "cell_type": "code",
      "source": [
        "print(my_list)"
      ],
      "metadata": {
        "colab": {
          "base_uri": "https://localhost:8080/"
        },
        "id": "siT34kf1UNKv",
        "outputId": "9f26d0bd-177f-46af-8746-aa99eb1cb46c"
      },
      "execution_count": null,
      "outputs": [
        {
          "output_type": "stream",
          "name": "stdout",
          "text": [
            "['Pay bills', 'Tidy up', 'Walk the dog', 'Go meet friends', 'Cook dinner', 'Mow the Lawn', 'Water plants']\n"
          ]
        }
      ]
    },
    {
      "cell_type": "markdown",
      "source": [
        "Similarly, you can remove items using the del command."
      ],
      "metadata": {
        "id": "ATxSBqFyUZDe"
      }
    },
    {
      "cell_type": "code",
      "source": [
        "del my_list[5:]\n",
        "\"\"\" This removes the items with indices 5 and above,\n",
        " thus returning the list to its previous form \"\"\"\n",
        "print(my_list)"
      ],
      "metadata": {
        "colab": {
          "base_uri": "https://localhost:8080/"
        },
        "id": "_2aHyFxfUbDx",
        "outputId": "419fc984-6375-4e3a-bda9-6f9fd150694c"
      },
      "execution_count": null,
      "outputs": [
        {
          "output_type": "stream",
          "name": "stdout",
          "text": [
            "['Pay bills', 'Tidy up', 'Walk the dog', 'Go meet friends', 'Cook dinner']\n"
          ]
        }
      ]
    },
    {
      "cell_type": "markdown",
      "source": [
        "##Using a List as a Queue\n",
        "\n",
        "A queue is an abstract data type that can be implemented using the list data\n",
        "structure. One end of a queue is always used to insert items (enqueue), and\n",
        "the other is used to remove them (dequeue following the (FIFO) methodology. You can see it beeing used in warehouseing: first products that arrive at the warehouse are the first\n",
        "products to leave. Organising sales that way, helps prevent product expiration, by making sure the older products are sold first. Turn python list into a queue using Python's deque object. \n",
        "\n",
        "![image.png](data:image/png;base64,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)"
      ],
      "metadata": {
        "id": "t-aUHbiCWFfO"
      }
    },
    {
      "cell_type": "markdown",
      "source": [
        "I first turned the my_list object into a deque object. The *deque()*\n",
        "object constructor adds a set of methods to the list object being passed into\n",
        "it, making it easier to use that list as a queue. In this example i add a new element to the right siode of the queue with the *append()* method, then you remove an item from the left side of the queue using the popleft()\n",
        "method."
      ],
      "metadata": {
        "id": "VhGZU3RPYz8l"
      }
    },
    {
      "cell_type": "code",
      "source": [
        "from collections import deque\n",
        "queue = deque(my_list)\n",
        "queue.append(\"Wash the car\")\n",
        "print(queue.popleft(), \"-Done!\")\n",
        "my_list_new = list(queue)\n",
        "print(my_list_new)"
      ],
      "metadata": {
        "colab": {
          "base_uri": "https://localhost:8080/"
        },
        "id": "grvBckioXG9G",
        "outputId": "1f83aa01-216d-4727-d658-49990965da9f"
      },
      "execution_count": null,
      "outputs": [
        {
          "output_type": "stream",
          "name": "stdout",
          "text": [
            "Pay bills -Done!\n",
            "['Tidy up', 'Walk the dog', 'Go meet friends', 'Cook dinner', 'Wash the car']\n"
          ]
        }
      ]
    },
    {
      "cell_type": "markdown",
      "source": [
        "##Using a List as a Stack\n",
        "\n",
        "Like a queue, a stack is an abstract data structure that you can organize on\n",
        "top of a list. A stack implements the LIFO methodology, where the last item added is rthe first item retrieved. You would complete the tasks in reverse order, starting with the rightmost task.\n"
      ],
      "metadata": {
        "id": "c1NpeO3edd6t"
      }
    },
    {
      "cell_type": "code",
      "source": [
        "my_list = ['Pay bills', 'Tidy up', 'Walk the dog', 'Go to the pharmacy', 'Cook dinner']\n",
        "stack = []\n",
        "for task in my_list:\n",
        "  stack.append(task)\n",
        "while stack:\n",
        "  print(stack.pop(),\"- Done!\")\n",
        "print(\"\\nThe stack is empty\")"
      ],
      "metadata": {
        "colab": {
          "base_uri": "https://localhost:8080/"
        },
        "id": "jFWGOLzVeAHz",
        "outputId": "07c7254a-3f34-4837-975c-bf1bf4b7e7c5"
      },
      "execution_count": null,
      "outputs": [
        {
          "output_type": "stream",
          "name": "stdout",
          "text": [
            "Cook dinner - Done!\n",
            "Go to the pharmacy - Done!\n",
            "Walk the dog - Done!\n",
            "Tidy up - Done!\n",
            "Pay bills - Done!\n",
            "\n",
            "The stack is empty\n"
          ]
        }
      ]
    },
    {
      "cell_type": "markdown",
      "source": [
        "In the for loop, you push the tasks from the to-do list into a stack defined\n",
        "as another list, starting from the first task. This is an example of using append()\n",
        "in a loop to dynamically populate an empty list. In the while loop, remove the tasks from the stack starting from the last one, using the pop() method. Which removes the last item from a list and returns the removed item."
      ],
      "metadata": {
        "id": "5JrMSNx9e2gI"
      }
    },
    {
      "cell_type": "markdown",
      "source": [
        "##Using Lists and Stacks for Natural Language Processing\n",
        "\n",
        "The following script uses spaCy to implement the leading open source\n",
        "Python library for natural language processing"
      ],
      "metadata": {
        "id": "Kj3Wsk7-f-xR"
      }
    },
    {
      "cell_type": "code",
      "source": [
        "import spacy\n",
        "txt = 'List is a ubiquitous data structure in the Python programming language.'\n",
        "nlp = spacy.load('en_core_web_sm')\n",
        "doc = nlp(txt)\n",
        "stk=[]\n",
        "for w in doc:\n",
        "  if w.pos_ == 'NOUN' or w.pos_ == 'PROPN':\n",
        "    stk.append(w.text)\n",
        "  elif (w.head.pos_ == 'NOUN' or w.head.pos_ == 'PROPN') and (w in w.head.lefts):\n",
        "    stk.append(w.text)\n",
        "  elif stk:\n",
        "    chunk = ' '\n",
        "    while stk:\n",
        "      chunk = stk.pop() + ' ' +chunk\n",
        "    print(chunk.strip())"
      ],
      "metadata": {
        "colab": {
          "base_uri": "https://localhost:8080/"
        },
        "id": "T2vXlxAFgHL9",
        "outputId": "e0d94bd9-6ed5-4bf7-935a-46bbea4620bf"
      },
      "execution_count": null,
      "outputs": [
        {
          "output_type": "stream",
          "name": "stdout",
          "text": [
            "List\n",
            "a ubiquitous data structure\n",
            "the Python programming language\n"
          ]
        }
      ]
    },
    {
      "cell_type": "markdown",
      "source": [
        "##Improvements with List Comprehensions\n",
        "\n",
        "Use list comprehensions to\n",
        "improve our noun chunk extraction algorithm, by making significant enhancements to existing\n",
        "code. The enhancements will be quite compact because we have the code above.\n",
        "\n",
        "![image.png](data:image/png;base64,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)\n"
      ],
      "metadata": {
        "id": "s-VYlI_ANh6D"
      }
    },
    {
      "cell_type": "code",
      "source": [
        "txt = 'List is arguably the most useful type in the Python programming language.'\n",
        "import spacy\n",
        "nlp = spacy.load('en_core_web_sm')\n",
        "doc = nlp(txt)\n",
        "head_lefts = [t.text if t in t.head.lefts else 0 for t in doc]\n",
        "print(head_lefts)\n"
      ],
      "metadata": {
        "colab": {
          "base_uri": "https://localhost:8080/"
        },
        "id": "DGuCUEmGPRwf",
        "outputId": "023bf5e3-7890-4989-d61f-22fcac4587e0"
      },
      "execution_count": null,
      "outputs": [
        {
          "output_type": "stream",
          "name": "stdout",
          "text": [
            "['List', 0, 0, 'the', 'most', 'useful', 0, 0, 'the', 'Python', 'programming', 0, 0]\n"
          ]
        }
      ]
    },
    {
      "cell_type": "markdown",
      "source": [
        "Notice that the list contains one more element than there are\n",
        "words in the sentence. This is because spaCy actually breaks the text up into\n",
        "tokens, which may be words or punctuation marks. The final 0 in the list\n",
        "represents the period at the end of the sentence.\n"
      ],
      "metadata": {
        "id": "qxKDlJLPUHJR"
      }
    },
    {
      "cell_type": "code",
      "source": [
        "\"create a series of text fragments, where each fragment starts at a certain position and continues until the end of the text.\"\n",
        "\n",
        "for w in doc:\n",
        "  head_lefts = [t.text if t in t.head.lefts else 0 for t in doc[w.i : ]]\n",
        "  print(head_lefts)"
      ],
      "metadata": {
        "colab": {
          "base_uri": "https://localhost:8080/"
        },
        "id": "9SvviWTRULEP",
        "outputId": "1ae64873-300f-4ca6-85b4-a4203ff65776"
      },
      "execution_count": null,
      "outputs": [
        {
          "output_type": "stream",
          "name": "stdout",
          "text": [
            "['List', 0, 0, 'the', 'most', 'useful', 0, 0, 'the', 'Python', 'programming', 0, 0]\n",
            "[0, 0, 'the', 'most', 'useful', 0, 0, 'the', 'Python', 'programming', 0, 0]\n",
            "[0, 'the', 'most', 'useful', 0, 0, 'the', 'Python', 'programming', 0, 0]\n",
            "['the', 'most', 'useful', 0, 0, 'the', 'Python', 'programming', 0, 0]\n",
            "['most', 'useful', 0, 0, 'the', 'Python', 'programming', 0, 0]\n",
            "['useful', 0, 0, 'the', 'Python', 'programming', 0, 0]\n",
            "[0, 0, 'the', 'Python', 'programming', 0, 0]\n",
            "[0, 'the', 'Python', 'programming', 0, 0]\n",
            "['the', 'Python', 'programming', 0, 0]\n",
            "['Python', 'programming', 0, 0]\n",
            "['programming', 0, 0]\n",
            "[0, 0]\n",
            "[0]\n"
          ]
        }
      ]
    },
    {
      "cell_type": "markdown",
      "source": [
        "You must analyze each fragment next, looking for the first zero. The\n",
        "words up to and including that zero could potentially be a noun chunk"
      ],
      "metadata": {
        "id": "KnWJGmfZPsIJ"
      }
    },
    {
      "cell_type": "code",
      "source": [
        "txt = 'List is arguably the most useful type in the Python programming language.'\n",
        "import spacy\n",
        "nlp = spacy.load('en_core_web_sm')\n",
        "doc = nlp(txt)\n",
        "stk = []\n",
        "for w in doc:\n",
        "  head_lefts = [1 if t in t.head.lefts else 0 for t in doc[w.i:]]\n",
        "  i0 = 0\n",
        "  try: i0 = head_lefts.index(0)\n",
        "  except ValueError: pass\n",
        "  i1 = 0\n",
        "  if i0 > 0:\n",
        "    noun = [1 if t.pos_== 'NOUN' or t.pos_== 'PROPN' else 0 for t in \n",
        "            reversed(doc[w.i:w.i+i0 +1])]\n",
        "    try: i1 = noun.index(1)+1 \n",
        "    except ValueError: pass\n",
        "  if w.pos_ == 'NOUN' or w.pos_ == 'PROPN':\n",
        "    stk.append(w.text)\n",
        "  elif (i1>0):\n",
        "    stk.append(w.text)\n",
        "  elif stk:\n",
        "    chunk = \" \"\n",
        "    while stk:\n",
        "      chunk = stk.pop()+ \" \" +chunk\n",
        "    print(chunk.strip())\n",
        "\n",
        "\n"
      ],
      "metadata": {
        "colab": {
          "base_uri": "https://localhost:8080/"
        },
        "id": "m-F5SWk-U7pC",
        "outputId": "41404984-72ea-4ebd-96ff-ee3032033597"
      },
      "execution_count": null,
      "outputs": [
        {
          "output_type": "stream",
          "name": "stdout",
          "text": [
            "List\n",
            "the most useful type\n",
            "the Python programming language\n"
          ]
        }
      ]
    },
    {
      "cell_type": "markdown",
      "source": [
        "## Tuples\n",
        "\n",
        "A tuple is an ordered collection of objects, it can be immutable(can't change it). The items in a tuple are separated by commas and can optionally be enclosed in\n",
        "parentheses.\n",
        "\n",
        "Typically used to store collections of heterogeneous data; that\n",
        "is, data of different types, such as the make, model, and year of a car.\n",
        "\n",
        "## A list of Tuples\n",
        "\n",
        "It’s common to nest Python data structures inside each other. You can have a list where each element is tuple, allowing you to assign more than one attribute to each element in the list.\n",
        "\n",
        "Say you want to assign a start\n",
        "time to each task in the to-do list you created earlier in the chapter. Each\n",
        "item in the list will become a data structure unto itself, consisting of two\n",
        "elements: the description of a task and its scheduled start time.\n",
        "\n"
      ],
      "metadata": {
        "id": "8FWUVylfZjgo"
      }
    },
    {
      "cell_type": "markdown",
      "source": [],
      "metadata": {
        "id": "8hpqQjtZbWmc"
      }
    },
    {
      "cell_type": "code",
      "source": [
        "task_list =  ['Pay bills', 'Tidy up', 'Walk the dog', 'Go to the pharmacy', 'Cook dinner']\n",
        "tm_list = ['8:00', '8:30', '9:30', '10:00', '10:30']\n",
        "\n",
        "sched_list = [(tm,task) for tm, \n",
        "              task in zip(tm_list,task_list)]\n",
        "print(sched_list)\n",
        "print(sched_list[1])"
      ],
      "metadata": {
        "colab": {
          "base_uri": "https://localhost:8080/"
        },
        "id": "UINm1zYNZ3az",
        "outputId": "fbc52fb3-56d9-4c25-e450-2f99991d26b8"
      },
      "execution_count": null,
      "outputs": [
        {
          "output_type": "stream",
          "name": "stdout",
          "text": [
            "[('8:00', 'Pay bills'), ('8:30', 'Tidy up'), ('9:30', 'Walk the dog'), ('10:00', 'Go to the pharmacy'), ('10:30', 'Cook dinner')]\n",
            "('8:30', 'Tidy up')\n"
          ]
        }
      ]
    },
    {
      "cell_type": "markdown",
      "source": [
        "##Immutability\n",
        "\n",
        "An important thing to remember about tuples is that they’re immutable. That\n",
        "is, you can’t modify them. For example, if you try to change the start time\n",
        "for one of your chores:"
      ],
      "metadata": {
        "id": "1CuYxBjycEA0"
      }
    },
    {
      "cell_type": "code",
      "source": [
        "sched_list[1][0] = '9:00'"
      ],
      "metadata": {
        "colab": {
          "base_uri": "https://localhost:8080/",
          "height": 165
        },
        "id": "MAUHDO7RcLi9",
        "outputId": "8ba68e9d-cc75-4bc4-975a-14c1b453f072"
      },
      "execution_count": null,
      "outputs": [
        {
          "output_type": "error",
          "ename": "TypeError",
          "evalue": "ignored",
          "traceback": [
            "\u001b[0;31m---------------------------------------------------------------------------\u001b[0m",
            "\u001b[0;31mTypeError\u001b[0m                                 Traceback (most recent call last)",
            "\u001b[0;32m<ipython-input-45-9dc1da1bceb3>\u001b[0m in \u001b[0;36m<cell line: 1>\u001b[0;34m()\u001b[0m\n\u001b[0;32m----> 1\u001b[0;31m \u001b[0msched_list\u001b[0m\u001b[0;34m[\u001b[0m\u001b[0;36m1\u001b[0m\u001b[0;34m]\u001b[0m\u001b[0;34m[\u001b[0m\u001b[0;36m0\u001b[0m\u001b[0;34m]\u001b[0m \u001b[0;34m=\u001b[0m \u001b[0;34m'9:00'\u001b[0m\u001b[0;34m\u001b[0m\u001b[0;34m\u001b[0m\u001b[0m\n\u001b[0m",
            "\u001b[0;31mTypeError\u001b[0m: 'tuple' object does not support item assignment"
          ]
        }
      ]
    },
    {
      "cell_type": "markdown",
      "source": [
        "You get this because its immutable, they are not suitable for holding data values that need to be updated periodically.\n",
        "\n",
        "# Dictionaries\n",
        "\n",
        "Another widely used built-in data structure in Python.\n",
        "Dictionaries are mutable, unordered collections of key-value pairs, where\n",
        "each key is a unique name that identifies an item of data, the value. Like tuples, are useful for storing heterogeneous data about real-world objects. \n",
        "\n",
        "## A list of Dictionaries\n",
        "\n",
        "Like other data structures, dictionaries can be nested inside other structures.\n",
        "Your to-do list, when implemented as a list of dictionaries, might look like this:"
      ],
      "metadata": {
        "id": "nBFDnqtNcZo3"
      }
    },
    {
      "cell_type": "code",
      "source": [
        "dict_list = [\n",
        "    {'time': '8:00', 'name': 'Pay bills'},\n",
        "    {'time': '8:30', 'name': 'Tidy up'},\n",
        "    {'time': '9:30', 'name': 'Walk the dog'},\n",
        "    {'time': '10:00', 'name': 'Go to the pharmacy'},\n",
        "    {'time': '10:30', 'name': 'Cook dinner'}\n",
        "]"
      ],
      "metadata": {
        "id": "7zTvqRa1cZT6"
      },
      "execution_count": null,
      "outputs": []
    },
    {
      "cell_type": "markdown",
      "source": [
        "Dictionaries are mutable, which means that you can easily\n",
        "change the value in a key-value pair"
      ],
      "metadata": {
        "id": "A8d1TrDhddCP"
      }
    },
    {
      "cell_type": "code",
      "source": [
        "dict_list[1]['time'] = '9:00'\n"
      ],
      "metadata": {
        "id": "5cauknH_dg2T"
      },
      "execution_count": null,
      "outputs": []
    },
    {
      "cell_type": "markdown",
      "source": [
        "## Adding to a Dictionary with setdefault()\n",
        "\n",
        "setdefault() method provides a convenient way to add new data to a\n",
        "dictionary. It takes a key-value pair as its parameter. If the specified key\n",
        "already exists, the method simply returns the current value of that keyIf the\n",
        "key doesn’t exist, setdefault() inserts the key with the specified value.\n"
      ],
      "metadata": {
        "id": "WpmKqd75iXog"
      }
    },
    {
      "cell_type": "code",
      "source": [
        "car = {\n",
        "    'brand':'Volkswagen',\n",
        "    'style':'Sedan',\n",
        "    'model':'Jetta'\n",
        "}\n",
        "# a new dic.\n",
        "\n",
        "print(car.setdefault(\"model\",\"Passat\"))\n",
        "#a new model key with a value of Passat using setdefault()\n",
        "\n",
        "print(car)"
      ],
      "metadata": {
        "colab": {
          "base_uri": "https://localhost:8080/"
        },
        "id": "Hf_ZhN6Ukjjl",
        "outputId": "9ab79e93-986b-4449-b210-0242e8c2cf43"
      },
      "execution_count": null,
      "outputs": [
        {
          "output_type": "stream",
          "name": "stdout",
          "text": [
            "Jetta\n",
            "{'brand': 'Volkswagen', 'style': 'Sedan', 'model': 'Jetta'}\n"
          ]
        }
      ]
    },
    {
      "cell_type": "markdown",
      "source": [
        "However, if you specify a new key, setdefault() inserts the key-value pair and returns the value"
      ],
      "metadata": {
        "id": "6OJiN-EtokYb"
      }
    },
    {
      "cell_type": "code",
      "source": [
        "print(car.setdefault('year',2022))\n",
        "print(\"--------------------------\")\n",
        "print(car)"
      ],
      "metadata": {
        "colab": {
          "base_uri": "https://localhost:8080/"
        },
        "id": "J5KXagGfoV_s",
        "outputId": "c1cb98ba-24f2-4153-c6d8-a8d13fefb646"
      },
      "execution_count": null,
      "outputs": [
        {
          "output_type": "stream",
          "name": "stdout",
          "text": [
            "2022\n",
            "--------------------------\n",
            "{'brand': 'Volkswagen', 'style': 'Sedan', 'model': 'Jetta', 'year': 2022}\n"
          ]
        }
      ]
    },
    {
      "cell_type": "markdown",
      "source": [
        "The setdefault() method relieves you from having to\n",
        "manually check whether the key in the key-value pair you want to insert is\n",
        "already in the dictionary. You can safely try to insert a key-value pair into a\n",
        "dictionary without the risk of overwriting the value of a key that already\n",
        "exists.\n",
        "\n",
        "Let’s look at a practical example.\n",
        "Counting the number of occurrences of each word in a text phrase is a\n",
        "common task in NLP."
      ],
      "metadata": {
        "id": "FqmtzpBbpPPf"
      }
    },
    {
      "cell_type": "code",
      "source": [
        "txt = '''Python is one of the most promising programming languages today. Due to the simplicity\n",
        "of Python syntax, many researchers and scientists prefer Python over many other languages.'''\n",
        "# first step is remove the punctuation, without this \"languages\" and \"languages.\" would count as two separate words.\n",
        "\n",
        "txt = txt.replace('.', '').replace(',', '')\n",
        "\n",
        "#now put it into a list\n",
        "\n",
        "lst = txt.split()\n",
        "print(lst)\n",
        "\n",
        "#now count how many times each word in the list happens. By:\n",
        "\n",
        "dct = {}\n",
        "for w in lst:\n",
        "  c = dct.setdefault(w,0)\n",
        "  dct[w] = 1+dct[w]\n",
        "\n",
        "#first we create and empty dic. and then add key-value to it, using the words for the list as the keys."
      ],
      "metadata": {
        "colab": {
          "base_uri": "https://localhost:8080/"
        },
        "id": "pxBJ9_gUppDx",
        "outputId": "bcce3ae0-aff8-4fd5-9be7-494097786305"
      },
      "execution_count": null,
      "outputs": [
        {
          "output_type": "stream",
          "name": "stdout",
          "text": [
            "['Python', 'is', 'one', 'of', 'the', 'most', 'promising', 'programming', 'languages', 'today', 'Due', 'to', 'the', 'simplicity', 'of', 'Python', 'syntax', 'many', 'researchers', 'and', 'scientists', 'prefer', 'Python', 'over', 'many', 'other', 'languages']\n"
          ]
        }
      ]
    },
    {
      "cell_type": "code",
      "source": [
        "dct_sorted = dict(sorted(dct.items(),key=lambda x: x[1],reverse=True))\n",
        "\n",
        "print(dct_sorted)"
      ],
      "metadata": {
        "colab": {
          "base_uri": "https://localhost:8080/"
        },
        "id": "AG47tZp9r_z_",
        "outputId": "24e32225-ce1d-4df3-aa38-55f3e9ab3cf1"
      },
      "execution_count": null,
      "outputs": [
        {
          "output_type": "stream",
          "name": "stdout",
          "text": [
            "{'Python': 3, 'of': 2, 'the': 2, 'languages': 2, 'many': 2, 'is': 1, 'one': 1, 'most': 1, 'promising': 1, 'programming': 1, 'today': 1, 'Due': 1, 'to': 1, 'simplicity': 1, 'syntax': 1, 'researchers': 1, 'and': 1, 'scientists': 1, 'prefer': 1, 'over': 1, 'other': 1}\n"
          ]
        }
      ]
    },
    {
      "cell_type": "markdown",
      "source": [
        "##Loading JSON into a Dictionary\n",
        "\n",
        "Loading JSON into a Dictionar, here’s how to load a string representing a\n",
        "JSON document into a dictionary using only the assignment operator."
      ],
      "metadata": {
        "id": "v_t13B_KtFAQ"
      }
    },
    {
      "cell_type": "code",
      "source": [
        "d = {\"PONumber\"   :2608,\n",
        "     \"ShippingInstructions\" : {\"name\" : \"John Silver\",\n",
        "                               \"Address\": { \"street\" : \"426 Light Street\",\n",
        "                                            \"city\" : \"South San Francisco\",\n",
        "                                           \"state\" : \"CA\",\n",
        "                                           \"zipCode\" : 99237,\n",
        "                                           \"country\" : \"United States of America\" },\n",
        "                               \"Phone\":[ {\"type\" : \"Office\", \"number\" : \"809-123-9309\"},\n",
        "                                        { \"type\" : \"Mobile\", \"number\" : \"417-123-4567\"}\n",
        "                                        ]\n",
        "                               }\n",
        "     }\n",
        "import json\n",
        "with open(\"po.json\",\"w\") as outfile:\n",
        "  json.dump(d,outfile)\n",
        "#use the json.load() method to load the contents of a JSON file directly into a Python dictionary\n",
        "\n",
        "with open(\"po.json\", ) as fp:\n",
        "  d = json.load(fp)\n",
        "  "
      ],
      "metadata": {
        "id": "1V862_9ZtCuN"
      },
      "execution_count": null,
      "outputs": []
    },
    {
      "cell_type": "markdown",
      "source": [
        "#Sets\n",
        "\n",
        "Unordered collection of unique items. Duplicate items are\n",
        "not allowed in a set. A set is defined with curly brackets containing items\n",
        "separated by commas.\n",
        "\n",
        "##Removing Duplicates from Sequences\n",
        "\n",
        "Since members of a set must be unique, sets are useful when you need to\n",
        "remove duplicate items from a list or a tuple."
      ],
      "metadata": {
        "id": "3go181JDu5tV"
      }
    },
    {
      "cell_type": "code",
      "source": [
        "lst = ['John Silver','Tim Jemison','John Silver',\"Maya Smith\"]\n",
        "print(lst)\n",
        "print(\"-------------------------------------\")\n",
        "lst_1 = list(set(lst))\n",
        "print(lst_1)\n",
        "print(\"-------------------------------------\")\n",
        "#simply convert the original list to a set and then back to a list.\n",
        "#The set() operater automatically removes the duplicates. This however does not preserve the order.\n",
        "\n",
        "#To perform the same operation without losing the initial order, use Python’s sorted() function\n",
        "\n",
        "lst_2 = list(sorted(set(lst),key = lst.index))\n",
        "print(lst_2) \n"
      ],
      "metadata": {
        "colab": {
          "base_uri": "https://localhost:8080/"
        },
        "id": "_m3mv-iDu41e",
        "outputId": "a1475f7b-a5f4-4142-ef00-017f40faf657"
      },
      "execution_count": null,
      "outputs": [
        {
          "output_type": "stream",
          "name": "stdout",
          "text": [
            "['John Silver', 'Tim Jemison', 'John Silver', 'Maya Smith']\n",
            "-------------------------------------\n",
            "['Maya Smith', 'Tim Jemison', 'John Silver']\n",
            "-------------------------------------\n",
            "['John Silver', 'Tim Jemison', 'Maya Smith']\n"
          ]
        }
      ]
    },
    {
      "cell_type": "markdown",
      "source": [
        "##Performing Common Set Operations\n",
        "\n",
        "Set objects come with methods for performing common math operations on\n",
        "sequences, like unions and intersections. These methods let you easily\n",
        "combine sets or extract the elements shared by multiple sets.\n",
        "\n",
        "Imagine that you need to classify a huge number of photos into groups\n",
        "based on what’s in the photos. To automate this task, you might start with a\n",
        "visual recognition tool like Clarifai API that will generate a set of descriptive\n",
        "tags for each photo. The sets of tags can then be compared with each other\n",
        "using the intersection() method."
      ],
      "metadata": {
        "id": "scT_hbmCwvJj"
      }
    },
    {
      "cell_type": "code",
      "source": [
        "photo1_tags = {'coffee', 'breakfast', 'drink', 'table', 'tableware', 'cup', 'food'}\n",
        "photo2_tags = {'food', 'dish', 'meat', 'meal', 'tableware', 'dinner', 'vegetable'}\n",
        "intersection = photo1_tags.intersection(photo2_tags)\n",
        "if len(intersection) >= 2:\n",
        "  print(\"The photos contain similar objects. Which are: \" + str(intersection))"
      ],
      "metadata": {
        "colab": {
          "base_uri": "https://localhost:8080/"
        },
        "id": "ey-09i_904bI",
        "outputId": "3b63f52a-c5cd-4c72-f773-8d1b8535d36d"
      },
      "execution_count": null,
      "outputs": [
        {
          "output_type": "stream",
          "name": "stdout",
          "text": [
            "The photos contain similar objects. Which are: {'tableware', 'food'}\n"
          ]
        }
      ]
    },
    {
      "cell_type": "markdown",
      "source": [
        "#EXERCISE: IMPROVED PHOTO TAG ANALYSIS\n",
        "\n",
        "This section encourages you to practice what you’ve learned in this chapter. While continuing\n",
        "with the example using sets from the previous section, you’ll also need to use dictionaries and\n",
        "lists.\n",
        "In the previous example, you compared the descriptive tags of just two photos, determining\n",
        "their common tags by intersection. Let’s enhance the functionality of the code so that it can\n",
        "process an arbitrary number of photos, grouping them into categories generated on the fly based\n",
        "on intersecting tags.\n",
        "As the input, suppose you have the following list of dictionaries, where each dictionary\n",
        "represents a photo (of course, you might create your own list containing many more items). The\n",
        "list of dictionaries used here is available for download from the GitHub repository accompanying\n",
        "this book, at https://github.com/pythondatabook/sources/blob/main/ch2/list_of_dicts.txt:"
      ],
      "metadata": {
        "id": "OamhrzYb1pMP"
      }
    },
    {
      "cell_type": "markdown",
      "source": [
        "# New section"
      ],
      "metadata": {
        "id": "-hXCVqrsHr-2"
      }
    },
    {
      "cell_type": "code",
      "source": [],
      "metadata": {
        "id": "GMiGJZcN1o7M"
      },
      "execution_count": null,
      "outputs": []
    }
  ]
}